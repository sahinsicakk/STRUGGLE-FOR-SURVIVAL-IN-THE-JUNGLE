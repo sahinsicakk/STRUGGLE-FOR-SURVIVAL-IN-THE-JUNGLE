{
 "cells": [
  {
   "cell_type": "markdown",
   "id": "87921551-ed3e-4fa5-8aeb-d39f27b6749b",
   "metadata": {},
   "source": [
    "<h1 style=\"color:red;\">STRUGGLE FOR SURVIVAL IN THE JUNGLE</h1>"
   ]
  },
  {
   "cell_type": "markdown",
   "id": "6829ff1d-36b8-48f1-9a34-cb19deca2444",
   "metadata": {},
   "source": [
    "                    _____\r\n",
    "            __       .-'`     `'-.       __\r\n",
    "           / _'-._.-'--,       ,--'-._.-'_ \\\r\n",
    "          | / ' .'  .--.\\     /.--.  '. ' \\ |\r\n",
    "          ||  .' .:/____\\\\   //____\\:. '.  ||\r\n",
    "           \\,/.   |  \\o/ |   | \\o/  |   .\\,/\r\n",
    "         ,-`/ :.   '.___.|   |.___.'   .: \\`-,\r\n",
    "       ,--`/.  '::'    / /   \\ \\    '::'  .\\`--,\r\n",
    "     ,'--'| :.       /` /     \\ `\\       .: |'--',\r\n",
    "     ,'`.  \\ ':.:' /`  (`'---'`)  `\\ ':.:' /  `',\r\n",
    "     ,'  _  '-..--'|  . '.   .' .  |'--..-'   ',\r\n",
    "      `.-`         \\  .'  `:`  '.  /         `-.`\r\n",
    "      `.-'_  .  _   \\,__.--'--.__,/  __ . _'-.`\r\n",
    "         ' `/.-' ''-)            (-''  '-.\\`\r\n",
    "                    |            |\r\n",
    "               jgs  |            |\r\n",
    "                    \\            /\r\n",
    "                     '.________.'\r\n",
    "<h3 style=\"color:red;\">I AM SHAR-KHAN</h3>"
   ]
  },
  {
   "cell_type": "code",
   "execution_count": 1,
   "id": "39bbf02d-dc25-4b0f-bdbf-3a04c89975f4",
   "metadata": {},
   "outputs": [
    {
     "name": "stdout",
     "output_type": "stream",
     "text": [
      "STRUGGLE FOR SURVIVAL IN THE JUNGLE(Waaaaw)\n",
      "SELECT YOUR CHARACTER:1)Mowgli 2)Baloo 3)Bagheera\n"
     ]
    }
   ],
   "source": [
    "print(\"STRUGGLE FOR SURVIVAL IN THE JUNGLE(Waaaaw)\")\n",
    "print(\"SELECT YOUR CHARACTER:1)Mowgli 2)Baloo 3)Bagheera\")"
   ]
  },
  {
   "cell_type": "code",
   "execution_count": 2,
   "id": "0c6bf271-5f45-4cbc-a992-b3bf140229c0",
   "metadata": {},
   "outputs": [
    {
     "name": "stdin",
     "output_type": "stream",
     "text": [
      "Please Enter As a Number: 3\n"
     ]
    },
    {
     "name": "stdout",
     "output_type": "stream",
     "text": [
      "You Selected Bagheraa...Are you In The Dark :(\n"
     ]
    }
   ],
   "source": [
    "character=int(input(\"Please Enter As a Number:\"))\n",
    "if character==1:\n",
    "    character=\"Mowgli\"\n",
    "    print(\"You Selected Mowgli...Good Choice!\")\n",
    "elif character==2:\n",
    "    character=\"Baloo\"\n",
    "    print(\"You Selected Baloo...I Think You Like Honey!\")\n",
    "elif character==3:\n",
    "    character=\"Baghera\"\n",
    "    print(\"You Selected Bagheraa...Are you In The Dark :(\")\n",
    "else:\n",
    "    print(\"Invalid Character. Or Are You Sharkhan's spy???\")"
   ]
  },
  {
   "cell_type": "code",
   "execution_count": 3,
   "id": "ea6e06fe-37c1-4ac4-bc0c-a1844187a685",
   "metadata": {},
   "outputs": [
    {
     "name": "stdout",
     "output_type": "stream",
     "text": [
      "The Most Important Thing You Should Pay Attention To In The Jungle... Bloodthirsty Sharkhan\n",
      "Remember, everyone in the forest is Sharkhan's friend, except the wolves.\n",
      "The Game Is Starting...\n"
     ]
    }
   ],
   "source": [
    "print(\"The Most Important Thing You Should Pay Attention To In The Jungle... Bloodthirsty Sharkhan\")\n",
    "print(\"Remember, everyone in the forest is Sharkhan's friend, except the wolves.\")\n",
    "print(\"The Game Is Starting...\")\n"
   ]
  },
  {
   "cell_type": "code",
   "execution_count": 5,
   "id": "6374b93a-a1a5-4cf2-a527-35c15af30d1e",
   "metadata": {},
   "outputs": [
    {
     "name": "stdin",
     "output_type": "stream",
     "text": [
      "The roads divide into two, right or left? right\n"
     ]
    },
    {
     "name": "stdout",
     "output_type": "stream",
     "text": [
      "Keep Running\n",
      "Oops!, danger...a huge snake in the middle of the road :(\n"
     ]
    },
    {
     "name": "stdin",
     "output_type": "stream",
     "text": [
      "Skip or Give up:  skip\n"
     ]
    },
    {
     "name": "stdout",
     "output_type": "stream",
     "text": [
      "Keep Running\n",
      "Oops!, danger...What are those Giant Scorpions \n",
      "Scare the scorpions with fire or Give up:)\n"
     ]
    },
    {
     "name": "stdin",
     "output_type": "stream",
     "text": [
      " Hurry up! Fire or Give up!  skip\n"
     ]
    },
    {
     "name": "stdout",
     "output_type": "stream",
     "text": [
      "Invalid Choice. Please try again\n"
     ]
    }
   ],
   "source": [
    "direction = input(\"The roads divide into two, right or left?\")\n",
    "if direction == \"right\":\n",
    "    print(\"Keep Running\")\n",
    "    print(\"Oops!, danger...a huge snake in the middle of the road :(\")\n",
    "    stop1 = input(\"Skip or Give up: \")\n",
    "    if stop1 == \"skip\":\n",
    "        print(\"Keep Running\")\n",
    "        print(\"Oops!, danger...What are those Giant Scorpions \")\n",
    "        print(\"Scare the scorpions with fire or Give up:)\")  \n",
    "        stop2 = input(\" Hurry up! Fire or Give up! \")                   \n",
    "        if stop2 == \"fire\":\n",
    "            print(\"Keep Running\")\n",
    "            print(\"Oops! A huge cliff. What will you do now?\")\n",
    "            print(\"use rope or jump off the cliff\")\n",
    "            stop3 = input(\"Hurry Up! rope or jump: \")\n",
    "            if stop3 == \"rope\":\n",
    "                print(\"You've successfully crossed the cliff, keep running\") ,\n",
    "                print(\"Giant elephants... you have come to the final hurdle\")\n",
    "                print(\"Summon the wolf brothers or give up\")\n",
    "                stop4 = input(\"Hurry up! summon or give up!: \")\n",
    "                if stop4 == \"summon\":\n",
    "                    print(\"You finally did it, Sharkhan leaves you alone now\")\n",
    "                elif stop4 == \"give up\":\n",
    "                    print(\"You must be sorry you're Sarkhan's dinner after all that fighting isn't it\")\n",
    "                else:\n",
    "                    print(\"Invalid Choice. Please try again\")\n",
    "            elif stop3 == \"jump\":\n",
    "                print(f\"Today Sharkhan's dinner name was {character}.\")\n",
    "            else:\n",
    "                print(\"Invalid Choice. Please try again\")\n",
    "        elif stop2 == \"give up\":\n",
    "            print(f\"Today Sharkhan's dinner name was {character}.\")\n",
    "        else:\n",
    "            print(\"Invalid Choice. Please try again\")\n",
    "    elif stop1 == \"give up\":\n",
    "        print(f\"Today Sharkhan's dinner name was {character}.\")\n",
    "    else:\n",
    "        print(\"Invalid Choice. Please try again\")\n",
    "\n",
    "elif direction == \"left\":\n",
    "    print(\"Keep Running\")\n",
    "    print(\"Oops!, danger...A swamp :(\")\n",
    "    stop1 = input(\"Skip or Give up: \")\n",
    "    if stop1 == \"skip\":\n",
    "        print(\"Keep Running\")\n",
    "        print(\"Oops!, danger...  Disgusting Smelling Hyenas? \")\n",
    "        print(\"Scare the Hyenas with fire or Give up:)\")  \n",
    "        stop2 = input(\" Hurry up! Fire or Give up! \")                   \n",
    "        if stop2 == \"fire\":\n",
    "            print(\"Keep Running\")\n",
    "            print(\"Oops! There's a door out of the tree now?\")\n",
    "            print(\"Use the axe or use the key\")\n",
    "            stop3 = input(\"Hurry Up! axe or key: \")\n",
    "            if stop3 == \"key\":\n",
    "                print(\"You've successfully keep running\") \n",
    "                print(\"Ooops! Giant Bugs. All are all poisono\")\n",
    "                print(\"Summon the wolf brothers or give up\")\n",
    "                stop4 = input(\"Hurry up! summon or give up!: \")\n",
    "                if stop4 == \"summon\":\n",
    "                    print(\"You finally did it, Sharkhan leaves you alone now\")\n",
    "                elif stop4 == \"give up\":\n",
    "                    print(\"You must be sorry you're Sarkhan's dinner after all that fighting isn't it\")\n",
    "                else:\n",
    "                    print(\"Invalid Choice. Please try again\")\n",
    "            elif stop3 == \"axe\":\n",
    "                print(f\"Today Sharkhan's dinner name was {character}.\")\n",
    "            else:\n",
    "                print(\"Invalid Choice. Please try again\")\n",
    "        elif stop2 == \"give up\":\n",
    "            print(f\"Today Sharkhan's dinner name was {character}.\")\n",
    "        else:\n",
    "            print(\"Invalid Choice. Please try again\")\n",
    "    elif stop1 == \"give up\":\n",
    "        print(f\"Today Sharkhan's dinner name was {character}.\")\n",
    "    else:\n",
    "        print(\"Invalid Choice. Please try again\")\n",
    "else:\n",
    "    print(\"Invalid Choice. Please try again\")\n",
    "    \n"
   ]
  },
  {
   "cell_type": "markdown",
   "id": "f8aab3f6-1daf-4fb5-a7e6-c101b69f9de3",
   "metadata": {},
   "source": [
    "                                                          \n",
    "                                     \n",
    "                                     \n",
    "                                     \n",
    "                                     \n",
    "                                     "
   ]
  },
  {
   "cell_type": "markdown",
   "id": "2c3cf7a6-8c69-4389-a7aa-5f2fcb2b5816",
   "metadata": {},
   "source": [
    "\r\n",
    "          ( )___( )\r\n",
    "          /__oo   \\\r\n",
    "         ( \\/     )\r\n",
    "         | `=/    |\r\n",
    "        /         \\\r\n",
    "       /  /    \\   \\\r\n",
    "      /  (      \\   \\ \r\n",
    "     ( ,_/_      \\   \\\r\n",
    "      \\_ '=       \\   )\r\n",
    "        \"\"'       /  /\r\n",
    "        ;        /  /'?\r\n",
    "        :       (((( /\r\n",
    "   ctr   `._   \\  _ (\r\n",
    "          __|   |  /_    \r\n",
    "        (\"__,..\"'_._.)       ' ~~ ~                     \" \"\"!!!!!!!!!!!!!!"
   ]
  },
  {
   "cell_type": "code",
   "execution_count": null,
   "id": "0587ee11-e210-43b5-9895-baee35835d7e",
   "metadata": {},
   "outputs": [],
   "source": []
  }
 ],
 "metadata": {
  "kernelspec": {
   "display_name": "Python 3 (ipykernel)",
   "language": "python",
   "name": "python3"
  },
  "language_info": {
   "codemirror_mode": {
    "name": "ipython",
    "version": 3
   },
   "file_extension": ".py",
   "mimetype": "text/x-python",
   "name": "python",
   "nbconvert_exporter": "python",
   "pygments_lexer": "ipython3",
   "version": "3.11.7"
  }
 },
 "nbformat": 4,
 "nbformat_minor": 5
}
